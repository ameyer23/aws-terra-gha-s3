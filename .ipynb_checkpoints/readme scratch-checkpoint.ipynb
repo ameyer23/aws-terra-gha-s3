{
 "cells": [
  {
   "cell_type": "code",
   "execution_count": null,
   "id": "fa63e28b",
   "metadata": {},
   "outputs": [],
   "source": [
    "# Terraform AWS Infrastructure Setup and GitHub Actions Integration\n",
    "\n",
    "## Summary of Steps\n",
    "\n",
    "1. **Create Repo and Clone to Local Machine**  \n",
    "   Created a new repository and cloned it locally for development.\n",
    "\n",
    "2. **Add AWS Access Keys as GitHub Secrets**  \n",
    "   - Navigated to **Settings > Secrets > Actions** in the GitHub repo.  \n",
    "   - Created two repository secrets:  \n",
    "     - `AWS_ACCESS_KEY_ID` with the AWS access key value.  \n",
    "     - `AWS_SECRET_ACCESS_KEY` with the AWS secret key value.  \n",
    "   This allows GitHub Actions (GHA) to interact with AWS securely.\n",
    "\n",
    "3. **Build Infrastructure with Terraform Locally**  \n",
    "   - Created a `src` folder to contain Terraform template code.  \n",
    "   - Inside `src`, created `main.tf` file with AWS provider setup:\n",
    "     ```hcl\n",
    "     terraform {\n",
    "       required_version = \">=0.13.0\"\n",
    "       required_providers {\n",
    "         aws = {\n",
    "           source  = \"hashicorp/aws\"\n",
    "           version = \"~>3.0\"\n",
    "         }\n",
    "       }\n",
    "     }\n",
    "\n",
    "     provider \"aws\" {\n",
    "       region = \"us-east-1\"\n",
    "     }\n",
    "     ```\n",
    "\n",
    "4. **Create Modules for Terraform State Management**  \n",
    "   - Inside `src`, created `modules/tfstate` folder.  \n",
    "   - In `modules/tfstate`, created:  \n",
    "     - `main.tf` with Terraform provider setup (same as above).  \n",
    "     - `tfstate.tf` defining S3 bucket, versioning, encryption, and DynamoDB table for state locking:  \n",
    "       - S3 bucket resource with versioning and AES256 encryption.  \n",
    "       - DynamoDB table `terraform-state-locking` for Terraform state lock management.  \n",
    "     - `variables.tf` for bucket name and related variables.\n",
    "\n",
    "5. **Add Terraform Module in `src/main.tf`**  \n",
    "   - Added the `tfstate` modu\n"
   ]
  }
 ],
 "metadata": {
  "kernelspec": {
   "display_name": "Python 3 (ipykernel)",
   "language": "python",
   "name": "python3"
  },
  "language_info": {
   "codemirror_mode": {
    "name": "ipython",
    "version": 3
   },
   "file_extension": ".py",
   "mimetype": "text/x-python",
   "name": "python",
   "nbconvert_exporter": "python",
   "pygments_lexer": "ipython3",
   "version": "3.10.9"
  }
 },
 "nbformat": 4,
 "nbformat_minor": 5
}
